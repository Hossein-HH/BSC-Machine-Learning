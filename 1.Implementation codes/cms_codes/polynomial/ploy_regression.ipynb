{
 "cells": [
  {
   "cell_type": "code",
   "execution_count": 1,
   "metadata": {},
   "outputs": [],
   "source": [
    "import numpy as np\n",
    "import pandas as pd\n",
    "#? pandas is a special module for read data files\n",
    "from matplotlib import pyplot as plt"
   ]
  },
  {
   "cell_type": "code",
   "execution_count": 2,
   "metadata": {},
   "outputs": [
    {
     "data": {
      "text/plain": "          Level          Salary\ncount  10.00000       10.000000\nmean    5.50000   249500.000000\nstd     3.02765   299373.883668\nmin     1.00000    45000.000000\n25%     3.25000    65000.000000\n50%     5.50000   130000.000000\n75%     7.75000   275000.000000\nmax    10.00000  1000000.000000",
      "text/html": "<div>\n<style scoped>\n    .dataframe tbody tr th:only-of-type {\n        vertical-align: middle;\n    }\n\n    .dataframe tbody tr th {\n        vertical-align: top;\n    }\n\n    .dataframe thead th {\n        text-align: right;\n    }\n</style>\n<table border=\"1\" class=\"dataframe\">\n  <thead>\n    <tr style=\"text-align: right;\">\n      <th></th>\n      <th>Level</th>\n      <th>Salary</th>\n    </tr>\n  </thead>\n  <tbody>\n    <tr>\n      <th>count</th>\n      <td>10.00000</td>\n      <td>10.000000</td>\n    </tr>\n    <tr>\n      <th>mean</th>\n      <td>5.50000</td>\n      <td>249500.000000</td>\n    </tr>\n    <tr>\n      <th>std</th>\n      <td>3.02765</td>\n      <td>299373.883668</td>\n    </tr>\n    <tr>\n      <th>min</th>\n      <td>1.00000</td>\n      <td>45000.000000</td>\n    </tr>\n    <tr>\n      <th>25%</th>\n      <td>3.25000</td>\n      <td>65000.000000</td>\n    </tr>\n    <tr>\n      <th>50%</th>\n      <td>5.50000</td>\n      <td>130000.000000</td>\n    </tr>\n    <tr>\n      <th>75%</th>\n      <td>7.75000</td>\n      <td>275000.000000</td>\n    </tr>\n    <tr>\n      <th>max</th>\n      <td>10.00000</td>\n      <td>1000000.000000</td>\n    </tr>\n  </tbody>\n</table>\n</div>"
     },
     "execution_count": 2,
     "metadata": {},
     "output_type": "execute_result"
    }
   ],
   "source": [
    "data = pd.read_csv('position_salaries_data.csv')\n",
    "data.describe()\n",
    "#? Statistical information about the data"
   ]
  },
  {
   "cell_type": "code",
   "execution_count": 3,
   "metadata": {},
   "outputs": [
    {
     "name": "stdout",
     "output_type": "stream",
     "text": [
      "<class 'pandas.core.frame.DataFrame'>\n",
      "RangeIndex: 10 entries, 0 to 9\n",
      "Data columns (total 3 columns):\n",
      " #   Column    Non-Null Count  Dtype \n",
      "---  ------    --------------  ----- \n",
      " 0   Position  10 non-null     object\n",
      " 1   Level     10 non-null     int64 \n",
      " 2   Salary    10 non-null     int64 \n",
      "dtypes: int64(2), object(1)\n",
      "memory usage: 368.0+ bytes\n"
     ]
    }
   ],
   "source": [
    "data.info()\n",
    "#? information about the data's type, num of values, etc."
   ]
  },
  {
   "cell_type": "code",
   "execution_count": 4,
   "metadata": {},
   "outputs": [
    {
     "data": {
      "text/plain": "            Position  Level  Salary\n0   Business Analyst      1   45000\n1  Junior Consultant      2   50000\n2  Senior Consultant      3   60000\n3            Manager      4   80000\n4    Country Manager      5  110000",
      "text/html": "<div>\n<style scoped>\n    .dataframe tbody tr th:only-of-type {\n        vertical-align: middle;\n    }\n\n    .dataframe tbody tr th {\n        vertical-align: top;\n    }\n\n    .dataframe thead th {\n        text-align: right;\n    }\n</style>\n<table border=\"1\" class=\"dataframe\">\n  <thead>\n    <tr style=\"text-align: right;\">\n      <th></th>\n      <th>Position</th>\n      <th>Level</th>\n      <th>Salary</th>\n    </tr>\n  </thead>\n  <tbody>\n    <tr>\n      <th>0</th>\n      <td>Business Analyst</td>\n      <td>1</td>\n      <td>45000</td>\n    </tr>\n    <tr>\n      <th>1</th>\n      <td>Junior Consultant</td>\n      <td>2</td>\n      <td>50000</td>\n    </tr>\n    <tr>\n      <th>2</th>\n      <td>Senior Consultant</td>\n      <td>3</td>\n      <td>60000</td>\n    </tr>\n    <tr>\n      <th>3</th>\n      <td>Manager</td>\n      <td>4</td>\n      <td>80000</td>\n    </tr>\n    <tr>\n      <th>4</th>\n      <td>Country Manager</td>\n      <td>5</td>\n      <td>110000</td>\n    </tr>\n  </tbody>\n</table>\n</div>"
     },
     "execution_count": 4,
     "metadata": {},
     "output_type": "execute_result"
    }
   ],
   "source": [
    "data.head()\n",
    "#? show us top 5 rows of the data"
   ]
  },
  {
   "cell_type": "code",
   "execution_count": 5,
   "metadata": {},
   "outputs": [
    {
     "data": {
      "text/plain": "            Position  Level   Salary\n0   Business Analyst      1    45000\n1  Junior Consultant      2    50000\n2  Senior Consultant      3    60000\n3            Manager      4    80000\n4    Country Manager      5   110000\n5     Region Manager      6   150000\n6            Partner      7   200000\n7     Senior Partner      8   300000\n8            C-level      9   500000\n9                CEO     10  1000000",
      "text/html": "<div>\n<style scoped>\n    .dataframe tbody tr th:only-of-type {\n        vertical-align: middle;\n    }\n\n    .dataframe tbody tr th {\n        vertical-align: top;\n    }\n\n    .dataframe thead th {\n        text-align: right;\n    }\n</style>\n<table border=\"1\" class=\"dataframe\">\n  <thead>\n    <tr style=\"text-align: right;\">\n      <th></th>\n      <th>Position</th>\n      <th>Level</th>\n      <th>Salary</th>\n    </tr>\n  </thead>\n  <tbody>\n    <tr>\n      <th>0</th>\n      <td>Business Analyst</td>\n      <td>1</td>\n      <td>45000</td>\n    </tr>\n    <tr>\n      <th>1</th>\n      <td>Junior Consultant</td>\n      <td>2</td>\n      <td>50000</td>\n    </tr>\n    <tr>\n      <th>2</th>\n      <td>Senior Consultant</td>\n      <td>3</td>\n      <td>60000</td>\n    </tr>\n    <tr>\n      <th>3</th>\n      <td>Manager</td>\n      <td>4</td>\n      <td>80000</td>\n    </tr>\n    <tr>\n      <th>4</th>\n      <td>Country Manager</td>\n      <td>5</td>\n      <td>110000</td>\n    </tr>\n    <tr>\n      <th>5</th>\n      <td>Region Manager</td>\n      <td>6</td>\n      <td>150000</td>\n    </tr>\n    <tr>\n      <th>6</th>\n      <td>Partner</td>\n      <td>7</td>\n      <td>200000</td>\n    </tr>\n    <tr>\n      <th>7</th>\n      <td>Senior Partner</td>\n      <td>8</td>\n      <td>300000</td>\n    </tr>\n    <tr>\n      <th>8</th>\n      <td>C-level</td>\n      <td>9</td>\n      <td>500000</td>\n    </tr>\n    <tr>\n      <th>9</th>\n      <td>CEO</td>\n      <td>10</td>\n      <td>1000000</td>\n    </tr>\n  </tbody>\n</table>\n</div>"
     },
     "execution_count": 5,
     "metadata": {},
     "output_type": "execute_result"
    }
   ],
   "source": [
    "data\n",
    "#? show the all of the values"
   ]
  },
  {
   "cell_type": "code",
   "execution_count": 6,
   "metadata": {},
   "outputs": [
    {
     "data": {
      "text/plain": "<matplotlib.collections.PathCollection at 0x1e62a6c3550>"
     },
     "execution_count": 6,
     "metadata": {},
     "output_type": "execute_result"
    },
    {
     "data": {
      "text/plain": "<Figure size 432x288 with 1 Axes>",
      "image/png": "[encoded data removed]"
     },
     "metadata": {
      "needs_background": "light"
     },
     "output_type": "display_data"
    }
   ],
   "source": [
    "plt.scatter(data.iloc[:, 1], data.iloc[:, 2])\n",
    "#? visualize the values to know what degree is better"
   ]
  },
  {
   "cell_type": "code",
   "execution_count": 7,
   "metadata": {},
   "outputs": [],
   "source": [
    "#? we should in first step mapping the data\n",
    "def poly(x, degree):\n",
    "    n, m = x.shape\n",
    "    #? extract dimensions of the x with x.shape\n",
    "    res = np.empty((n, m * degree + 1))\n",
    "    #? we create an empty matrix\n",
    "    # with n rows and m * degree + 1(+1 is for x0) columns\n",
    "    res[:, 0] = np.ones(n)\n",
    "    # every row in column 0 is 1\n",
    "    for i in range(1, degree + 1):\n",
    "    # we specify start and end points (for power ^)\n",
    "        for j in range(m):\n",
    "        # so we apply the power for all features\n",
    "            res[:, (i - 1) * m + j + 1] = np.power(x[:, j], i)\n",
    "            # all rows column j powered to i\n",
    "    return res\n",
    "\n",
    "# test = np.array([[2,4],[3,6]])\n",
    "# test_poly = poly(test,3)\n",
    "# test_poly.shape"
   ]
  },
  {
   "cell_type": "code",
   "execution_count": 8,
   "metadata": {},
   "outputs": [
    {
     "data": {
      "text/plain": "array([[0.        ],\n       [0.0052356 ],\n       [0.01570681],\n       [0.03664921],\n       [0.06806283],\n       [0.10994764],\n       [0.16230366],\n       [0.26701571],\n       [0.47643979],\n       [1.        ]])"
     },
     "execution_count": 8,
     "metadata": {},
     "output_type": "execute_result"
    }
   ],
   "source": [
    "#? next step is standardization features\n",
    "# in here for example salary has a big range of values\n",
    "# but the levels are ok\n",
    "\n",
    "x = data.iloc[:, 1:2].values\n",
    "#? iloc means index location and return to us dataframe\n",
    "# we should use from .values for access to indexes\n",
    "y = data.iloc[:, -1].values\n",
    "y = y.reshape(-1, 1)\n",
    "x_poly1 = poly(x, 1)\n",
    "x_poly2 = poly(x, 2)\n",
    "x_poly3 = poly(x, 3)\n",
    "y_std = (y - y.min()) / (y.max() - y.min())\n",
    "#? a solution for standardization\n",
    "# we mapping standardization salary values\n",
    "y_std"
   ]
  },
  {
   "cell_type": "code",
   "execution_count": 9,
   "metadata": {},
   "outputs": [],
   "source": [
    "#? this is GD.py by one differance\n",
    "def gradient_descent(x, y, epochs, alpha, eps=0.001):\n",
    "    w = np.random.randn(x.shape[1], 1)\n",
    "    epoch = 1\n",
    "    loss_history = []\n",
    "    while True:\n",
    "        y_hat = np.dot(x, w)  # Xw ==> X@w\n",
    "        error = y_hat - y\n",
    "        loss = (1.0 / x.shape[0]) * error.T @ error  # MSE(loss) => 1/(n)*(y_hat-y).T@(y_hat-y)\n",
    "        loss_history.append(loss[0][0])\n",
    "        w -= 2 * alpha * x.T @ error  # w -= alpha*X.T(Xw-y)\n",
    "        if epoch % 100000 == 0:\n",
    "            print(f'Epoch [{epoch}/{epochs}]: loss = {loss}')\n",
    "        if epoch > epochs or loss_history[-1] < eps:\n",
    "            break\n",
    "        epoch += 1\n",
    "    return w, loss_history"
   ]
  },
  {
   "cell_type": "code",
   "execution_count": 10,
   "metadata": {},
   "outputs": [
    {
     "name": "stdout",
     "output_type": "stream",
     "text": [
      "Epoch [100000/10000000]: loss = [[0.3539888]]\n",
      "Epoch [200000/10000000]: loss = [[0.28722187]]\n",
      "Epoch [300000/10000000]: loss = [[0.23314833]]\n",
      "Epoch [400000/10000000]: loss = [[0.18935471]]\n",
      "Epoch [500000/10000000]: loss = [[0.15388641]]\n",
      "Epoch [600000/10000000]: loss = [[0.12516047]]\n",
      "Epoch [700000/10000000]: loss = [[0.10189494]]\n",
      "Epoch [800000/10000000]: loss = [[0.08305158]]\n",
      "Epoch [900000/10000000]: loss = [[0.06778958]]\n",
      "Epoch [1000000/10000000]: loss = [[0.055428]]\n",
      "Epoch [1100000/10000000]: loss = [[0.04541537]]\n",
      "Epoch [1200000/10000000]: loss = [[0.03730507]]\n",
      "Epoch [1300000/10000000]: loss = [[0.03073541]]\n",
      "Epoch [1400000/10000000]: loss = [[0.02541346]]\n",
      "Epoch [1500000/10000000]: loss = [[0.021102]]\n",
      "Epoch [1600000/10000000]: loss = [[0.0176089]]\n",
      "Epoch [1700000/10000000]: loss = [[0.01477858]]\n",
      "Epoch [1800000/10000000]: loss = [[0.01248501]]\n",
      "Epoch [1900000/10000000]: loss = [[0.01062616]]\n",
      "Epoch [2000000/10000000]: loss = [[0.00911937]]\n",
      "Epoch [2100000/10000000]: loss = [[0.00789772]]\n",
      "Epoch [2200000/10000000]: loss = [[0.006907]]\n",
      "Epoch [2300000/10000000]: loss = [[0.00610331]]\n",
      "Epoch [2400000/10000000]: loss = [[0.00545109]]\n",
      "Epoch [2500000/10000000]: loss = [[0.00492156]]\n",
      "Epoch [2600000/10000000]: loss = [[0.0044914]]\n",
      "Epoch [2700000/10000000]: loss = [[0.00414172]]\n",
      "Epoch [2800000/10000000]: loss = [[0.00385723]]\n",
      "Epoch [2900000/10000000]: loss = [[0.00362555]]\n",
      "Epoch [3000000/10000000]: loss = [[0.00343663]]\n",
      "Epoch [3100000/10000000]: loss = [[0.00328237]]\n",
      "Epoch [3200000/10000000]: loss = [[0.00315617]]\n",
      "Epoch [3300000/10000000]: loss = [[0.00305271]]\n",
      "Epoch [3400000/10000000]: loss = [[0.00296768]]\n",
      "Epoch [3500000/10000000]: loss = [[0.00289758]]\n",
      "Epoch [3600000/10000000]: loss = [[0.00283958]]\n",
      "Epoch [3700000/10000000]: loss = [[0.00279139]]\n",
      "Epoch [3800000/10000000]: loss = [[0.00275115]]\n",
      "Epoch [3900000/10000000]: loss = [[0.00271736]]\n",
      "Epoch [4000000/10000000]: loss = [[0.0026888]]\n",
      "Epoch [4100000/10000000]: loss = [[0.00266448]]\n",
      "Epoch [4200000/10000000]: loss = [[0.00264361]]\n",
      "Epoch [4300000/10000000]: loss = [[0.00262553]]\n",
      "Epoch [4400000/10000000]: loss = [[0.00260973]]\n",
      "Epoch [4500000/10000000]: loss = [[0.00259578]]\n",
      "Epoch [4600000/10000000]: loss = [[0.00258334]]\n",
      "Epoch [4700000/10000000]: loss = [[0.00257212]]\n",
      "Epoch [4800000/10000000]: loss = [[0.00256191]]\n",
      "Epoch [4900000/10000000]: loss = [[0.00255251]]\n",
      "Epoch [5000000/10000000]: loss = [[0.00254379]]\n",
      "Epoch [5100000/10000000]: loss = [[0.00253562]]\n",
      "Epoch [5200000/10000000]: loss = [[0.0025279]]\n",
      "Epoch [5300000/10000000]: loss = [[0.00252056]]\n",
      "Epoch [5400000/10000000]: loss = [[0.00251353]]\n",
      "Epoch [5500000/10000000]: loss = [[0.00250675]]\n",
      "Epoch [5600000/10000000]: loss = [[0.0025002]]\n",
      "Epoch [5700000/10000000]: loss = [[0.00249383]]\n",
      "Epoch [5800000/10000000]: loss = [[0.00248762]]\n",
      "Epoch [5900000/10000000]: loss = [[0.00248154]]\n",
      "Epoch [6000000/10000000]: loss = [[0.00247557]]\n",
      "Epoch [6100000/10000000]: loss = [[0.00246971]]\n",
      "Epoch [6200000/10000000]: loss = [[0.00246393]]\n",
      "Epoch [6300000/10000000]: loss = [[0.00245824]]\n",
      "Epoch [6400000/10000000]: loss = [[0.00245261]]\n",
      "Epoch [6500000/10000000]: loss = [[0.00244705]]\n",
      "Epoch [6600000/10000000]: loss = [[0.00244155]]\n",
      "Epoch [6700000/10000000]: loss = [[0.0024361]]\n",
      "Epoch [6800000/10000000]: loss = [[0.00243071]]\n",
      "Epoch [6900000/10000000]: loss = [[0.00242536]]\n",
      "Epoch [7000000/10000000]: loss = [[0.00242006]]\n",
      "Epoch [7100000/10000000]: loss = [[0.0024148]]\n",
      "Epoch [7200000/10000000]: loss = [[0.00240959]]\n",
      "Epoch [7300000/10000000]: loss = [[0.00240441]]\n",
      "Epoch [7400000/10000000]: loss = [[0.00239928]]\n",
      "Epoch [7500000/10000000]: loss = [[0.00239418]]\n",
      "Epoch [7600000/10000000]: loss = [[0.00238912]]\n",
      "Epoch [7700000/10000000]: loss = [[0.0023841]]\n",
      "Epoch [7800000/10000000]: loss = [[0.00237911]]\n",
      "Epoch [7900000/10000000]: loss = [[0.00237416]]\n",
      "Epoch [8000000/10000000]: loss = [[0.00236925]]\n",
      "Epoch [8100000/10000000]: loss = [[0.00236437]]\n",
      "Epoch [8200000/10000000]: loss = [[0.00235952]]\n",
      "Epoch [8300000/10000000]: loss = [[0.00235471]]\n",
      "Epoch [8400000/10000000]: loss = [[0.00234993]]\n",
      "Epoch [8500000/10000000]: loss = [[0.00234518]]\n",
      "Epoch [8600000/10000000]: loss = [[0.00234047]]\n",
      "Epoch [8700000/10000000]: loss = [[0.00233579]]\n",
      "Epoch [8800000/10000000]: loss = [[0.00233115]]\n",
      "Epoch [8900000/10000000]: loss = [[0.00232653]]\n",
      "Epoch [9000000/10000000]: loss = [[0.00232195]]\n",
      "Epoch [9100000/10000000]: loss = [[0.0023174]]\n",
      "Epoch [9200000/10000000]: loss = [[0.00231288]]\n",
      "Epoch [9300000/10000000]: loss = [[0.00230839]]\n",
      "Epoch [9400000/10000000]: loss = [[0.00230393]]\n",
      "Epoch [9500000/10000000]: loss = [[0.00229951]]\n",
      "Epoch [9600000/10000000]: loss = [[0.00229511]]\n",
      "Epoch [9700000/10000000]: loss = [[0.00229074]]\n",
      "Epoch [9800000/10000000]: loss = [[0.00228641]]\n",
      "Epoch [9900000/10000000]: loss = [[0.0022821]]\n",
      "Epoch [10000000/10000000]: loss = [[0.00227783]]\n"
     ]
    },
    {
     "data": {
      "text/plain": "[<matplotlib.lines.Line2D at 0x1e645275c00>]"
     },
     "execution_count": 10,
     "metadata": {},
     "output_type": "execute_result"
    },
    {
     "data": {
      "text/plain": "<Figure size 432x288 with 1 Axes>",
      "image/png": "[encoded data removed]"
     },
     "metadata": {
      "needs_background": "light"
     },
     "output_type": "display_data"
    }
   ],
   "source": [
    "#? if we increase the alpha and epochs but the loss not very decreased\n",
    "# we should upgrade degree\n",
    "w, losses = gradient_descent(x_poly3, y_std, 10000000, 0.0000001)\n",
    "# w\n",
    "xx = np.linspace(x.min() - 1, x.max() + 1, 100).reshape(-1, 1)\n",
    "xx_poly = poly(xx, 3)\n",
    "yy = np.dot(xx_poly, w)\n",
    "plt.scatter(x, y_std)\n",
    "plt.plot(xx, yy)\n"
   ]
  },
  {
   "cell_type": "code",
   "execution_count": 11,
   "metadata": {
    "pycharm": {
     "name": "#%%\n"
    }
   },
   "outputs": [
    {
     "data": {
      "text/plain": "array([[-0.32510608],\n       [ 0.30038011],\n       [-0.07245083],\n       [ 0.00553357]])"
     },
     "execution_count": 11,
     "metadata": {},
     "output_type": "execute_result"
    }
   ],
   "source": [
    "w\n",
    "\n",
    "# array([[-0.11826578],  => for ^0\n",
    "#        [ 0.14799228],  => for ^1\n",
    "#        [-0.04283191],  => for ^2\n",
    "#        [ 0.0038626 ]]) => for ^3"
   ]
  }
 ],
 "metadata": {
  "interpreter": {
   "hash": "e404b59586357c814bc0d3940e75d6763c00a48753b225b81f7716971b8e1741"
  },
  "kernelspec": {
   "display_name": "Python 3.8.7 64-bit",
   "language": "python",
   "name": "python3"
  },
  "language_info": {
   "codemirror_mode": {
    "name": "ipython",
    "version": 3
   },
   "file_extension": ".py",
   "mimetype": "text/x-python",
   "name": "python",
   "nbconvert_exporter": "python",
   "pygments_lexer": "ipython3",
   "version": "3.8.7"
  },
  "orig_nbformat": 4
 },
 "nbformat": 4,
 "nbformat_minor": 2
}