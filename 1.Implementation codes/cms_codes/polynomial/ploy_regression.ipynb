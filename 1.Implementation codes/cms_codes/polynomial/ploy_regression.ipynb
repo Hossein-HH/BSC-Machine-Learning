{
 "cells": [
  {
   "cell_type": "code",
   "execution_count": null,
   "metadata": {},
   "outputs": [],
   "source": [
    "import numpy as np\n",
    "import pandas as pd\n",
    "#? pandas is a special module for read data files\n",
    "from matplotlib import pyplot as plt"
   ]
  },
  {
   "cell_type": "code",
   "execution_count": null,
   "metadata": {},
   "outputs": [],
   "source": [
    "data = pd.read_csv('position_salaries_data.csv')\n",
    "data.describe()\n",
    "#? Statistical information about the data"
   ]
  },
  {
   "cell_type": "code",
   "execution_count": null,
   "metadata": {},
   "outputs": [],
   "source": [
    "data.info()\n",
    "#? information about the data's type, num of values, etc."
   ]
  },
  {
   "cell_type": "code",
   "execution_count": null,
   "metadata": {},
   "outputs": [],
   "source": [
    "data.head()\n",
    "#? show us top 5 rows of the data"
   ]
  },
  {
   "cell_type": "code",
   "execution_count": null,
   "metadata": {},
   "outputs": [],
   "source": [
    "data\n",
    "#? show the all of the values"
   ]
  },
  {
   "cell_type": "code",
   "execution_count": null,
   "metadata": {},
   "outputs": [],
   "source": [
    "plt.scatter(data.iloc[:, 1], data.iloc[:, 2])\n",
    "#? visualize the values to know what degree is better"
   ]
  },
  {
   "cell_type": "code",
   "execution_count": 15,
   "metadata": {},
   "outputs": [],
   "source": [
    "#? we should in first step mapping the data\n",
    "def poly(x, degree):\n",
    "    n, m = x.shape\n",
    "    #? extract dimensions of the x with x.shape\n",
    "    res = np.empty((n, m * degree + 1))\n",
    "    #? we create an empty matrix\n",
    "    # with n rows and m * degree + 1(+1 is for x0) columns\n",
    "    res[:, 0] = np.ones(n)\n",
    "    # every row in column 0 is 1\n",
    "    for i in range(1, degree + 1):\n",
    "    # we specify start and end points (for power ^)\n",
    "        for j in range(m):\n",
    "        # so we apply the power for all features\n",
    "            res[:, (i - 1) * m + j + 1] = np.power(x[:, j], i)\n",
    "            # all rows column j powered to i\n",
    "    return res\n",
    "\n",
    "# test = np.array([[2,4],[3,6]])\n",
    "# test_poly = poly(test,3)\n",
    "# test_poly.shape"
   ]
  },
  {
   "cell_type": "code",
   "execution_count": 16,
   "metadata": {},
   "outputs": [
    {
     "data": {
      "text/plain": "array([[0.        ],\n       [0.0052356 ],\n       [0.01570681],\n       [0.03664921],\n       [0.06806283],\n       [0.10994764],\n       [0.16230366],\n       [0.26701571],\n       [0.47643979],\n       [1.        ]])"
     },
     "execution_count": 16,
     "metadata": {},
     "output_type": "execute_result"
    }
   ],
   "source": [
    "#? next step is standardization features\n",
    "# in here for example salary has a big range of values\n",
    "# but the levels are ok\n",
    "\n",
    "x = data.iloc[:, 1:2].values\n",
    "#? iloc means index location and return to us dataframe\n",
    "# we should use from .values for access to indexes\n",
    "y = data.iloc[:, -1].values\n",
    "y = y.reshape(-1, 1)\n",
    "x_poly1 = poly(x, 1)\n",
    "x_poly2 = poly(x, 2)\n",
    "x_poly3 = poly(x, 3)\n",
    "y_std = (y - y.min()) / (y.max() - y.min())\n",
    "#? a solution for standardization\n",
    "# we mapping standardization salary values\n",
    "y_std"
   ]
  },
  {
   "cell_type": "code",
   "execution_count": 25,
   "metadata": {},
   "outputs": [],
   "source": [
    "#? this is GD.py by one differance\n",
    "def gradient_descent(x, y, epochs, alpha, eps=0.001):\n",
    "    w = np.random.randn(x.shape[1], 1)\n",
    "    epoch = 1\n",
    "    loss_history = []\n",
    "    while True:\n",
    "        y_hat = np.dot(x, w)  # Xw ==> X@w\n",
    "        error = y_hat - y\n",
    "        loss = (1.0 / x.shape[0]) * error.T @ error  # MSE(loss) => 1/(n)*(y_hat-y).T@(y_hat-y)\n",
    "        loss_history.append(loss[0][0])\n",
    "        w -= 2 * alpha * x.T @ error  # w -= alpha*X.T(Xw-y)\n",
    "        if epoch % 100000 == 0:\n",
    "            print(f'Epoch [{epoch}/{epochs}]: loss = {loss}')\n",
    "        if epoch > epochs or loss_history[-1] < eps:\n",
    "            break\n",
    "        epoch += 1\n",
    "    return w, loss_history"
   ]
  },
  {
   "cell_type": "code",
   "execution_count": 26,
   "metadata": {},
   "outputs": [
    {
     "name": "stdout",
     "output_type": "stream",
     "text": [
      "Epoch [100000/10000000]: loss = [[0.02234666]]\n",
      "Epoch [200000/10000000]: loss = [[0.0184444]]\n",
      "Epoch [300000/10000000]: loss = [[0.0152839]]\n",
      "Epoch [400000/10000000]: loss = [[0.01272412]]\n",
      "Epoch [500000/10000000]: loss = [[0.01065084]]\n",
      "Epoch [600000/10000000]: loss = [[0.00897157]]\n",
      "Epoch [700000/10000000]: loss = [[0.00761138]]\n",
      "Epoch [800000/10000000]: loss = [[0.00650962]]\n",
      "Epoch [900000/10000000]: loss = [[0.00561713]]\n",
      "Epoch [1000000/10000000]: loss = [[0.00489414]]\n",
      "Epoch [1100000/10000000]: loss = [[0.00430842]]\n",
      "Epoch [1200000/10000000]: loss = [[0.00383387]]\n",
      "Epoch [1300000/10000000]: loss = [[0.00344935]]\n",
      "Epoch [1400000/10000000]: loss = [[0.00313775]]\n",
      "Epoch [1500000/10000000]: loss = [[0.0028852]]\n",
      "Epoch [1600000/10000000]: loss = [[0.00268047]]\n",
      "Epoch [1700000/10000000]: loss = [[0.00251448]]\n",
      "Epoch [1800000/10000000]: loss = [[0.00237986]]\n",
      "Epoch [1900000/10000000]: loss = [[0.00227065]]\n",
      "Epoch [2000000/10000000]: loss = [[0.00218201]]\n",
      "Epoch [2100000/10000000]: loss = [[0.00211004]]\n",
      "Epoch [2200000/10000000]: loss = [[0.00205157]]\n",
      "Epoch [2300000/10000000]: loss = [[0.00200403]]\n",
      "Epoch [2400000/10000000]: loss = [[0.00196535]]\n",
      "Epoch [2500000/10000000]: loss = [[0.00193384]]\n",
      "Epoch [2600000/10000000]: loss = [[0.00190814]]\n",
      "Epoch [2700000/10000000]: loss = [[0.00188715]]\n",
      "Epoch [2800000/10000000]: loss = [[0.00186997]]\n",
      "Epoch [2900000/10000000]: loss = [[0.00185588]]\n",
      "Epoch [3000000/10000000]: loss = [[0.0018443]]\n",
      "Epoch [3100000/10000000]: loss = [[0.00183474]]\n",
      "Epoch [3200000/10000000]: loss = [[0.00182682]]\n",
      "Epoch [3300000/10000000]: loss = [[0.00182024]]\n",
      "Epoch [3400000/10000000]: loss = [[0.00181474]]\n",
      "Epoch [3500000/10000000]: loss = [[0.00181012]]\n",
      "Epoch [3600000/10000000]: loss = [[0.00180621]]\n",
      "Epoch [3700000/10000000]: loss = [[0.00180287]]\n",
      "Epoch [3800000/10000000]: loss = [[0.0018]]\n",
      "Epoch [3900000/10000000]: loss = [[0.00179751]]\n",
      "Epoch [4000000/10000000]: loss = [[0.00179533]]\n",
      "Epoch [4100000/10000000]: loss = [[0.00179341]]\n",
      "Epoch [4200000/10000000]: loss = [[0.00179168]]\n",
      "Epoch [4300000/10000000]: loss = [[0.00179013]]\n",
      "Epoch [4400000/10000000]: loss = [[0.00178871]]\n",
      "Epoch [4500000/10000000]: loss = [[0.0017874]]\n",
      "Epoch [4600000/10000000]: loss = [[0.00178618]]\n",
      "Epoch [4700000/10000000]: loss = [[0.00178504]]\n",
      "Epoch [4800000/10000000]: loss = [[0.00178396]]\n",
      "Epoch [4900000/10000000]: loss = [[0.00178294]]\n",
      "Epoch [5000000/10000000]: loss = [[0.00178195]]\n",
      "Epoch [5100000/10000000]: loss = [[0.001781]]\n",
      "Epoch [5200000/10000000]: loss = [[0.00178008]]\n",
      "Epoch [5300000/10000000]: loss = [[0.00177918]]\n",
      "Epoch [5400000/10000000]: loss = [[0.00177831]]\n",
      "Epoch [5500000/10000000]: loss = [[0.00177745]]\n",
      "Epoch [5600000/10000000]: loss = [[0.00177662]]\n",
      "Epoch [5700000/10000000]: loss = [[0.00177579]]\n",
      "Epoch [5800000/10000000]: loss = [[0.00177498]]\n",
      "Epoch [5900000/10000000]: loss = [[0.00177417]]\n",
      "Epoch [6000000/10000000]: loss = [[0.00177338]]\n",
      "Epoch [6100000/10000000]: loss = [[0.0017726]]\n",
      "Epoch [6200000/10000000]: loss = [[0.00177182]]\n",
      "Epoch [6300000/10000000]: loss = [[0.00177105]]\n",
      "Epoch [6400000/10000000]: loss = [[0.00177029]]\n",
      "Epoch [6500000/10000000]: loss = [[0.00176954]]\n",
      "Epoch [6600000/10000000]: loss = [[0.00176879]]\n",
      "Epoch [6700000/10000000]: loss = [[0.00176805]]\n",
      "Epoch [6800000/10000000]: loss = [[0.00176732]]\n",
      "Epoch [6900000/10000000]: loss = [[0.00176659]]\n",
      "Epoch [7000000/10000000]: loss = [[0.00176586]]\n",
      "Epoch [7100000/10000000]: loss = [[0.00176514]]\n",
      "Epoch [7200000/10000000]: loss = [[0.00176443]]\n",
      "Epoch [7300000/10000000]: loss = [[0.00176372]]\n",
      "Epoch [7400000/10000000]: loss = [[0.00176302]]\n",
      "Epoch [7500000/10000000]: loss = [[0.00176232]]\n",
      "Epoch [7600000/10000000]: loss = [[0.00176163]]\n",
      "Epoch [7700000/10000000]: loss = [[0.00176094]]\n",
      "Epoch [7800000/10000000]: loss = [[0.00176026]]\n",
      "Epoch [7900000/10000000]: loss = [[0.00175958]]\n",
      "Epoch [8000000/10000000]: loss = [[0.0017589]]\n",
      "Epoch [8100000/10000000]: loss = [[0.00175823]]\n",
      "Epoch [8200000/10000000]: loss = [[0.00175757]]\n",
      "Epoch [8300000/10000000]: loss = [[0.00175691]]\n",
      "Epoch [8400000/10000000]: loss = [[0.00175625]]\n",
      "Epoch [8500000/10000000]: loss = [[0.0017556]]\n",
      "Epoch [8600000/10000000]: loss = [[0.00175496]]\n",
      "Epoch [8700000/10000000]: loss = [[0.00175431]]\n",
      "Epoch [8800000/10000000]: loss = [[0.00175368]]\n",
      "Epoch [8900000/10000000]: loss = [[0.00175304]]\n",
      "Epoch [9000000/10000000]: loss = [[0.00175242]]\n",
      "Epoch [9100000/10000000]: loss = [[0.00175179]]\n",
      "Epoch [9200000/10000000]: loss = [[0.00175117]]\n",
      "Epoch [9300000/10000000]: loss = [[0.00175056]]\n",
      "Epoch [9400000/10000000]: loss = [[0.00174994]]\n",
      "Epoch [9500000/10000000]: loss = [[0.00174934]]\n",
      "Epoch [9600000/10000000]: loss = [[0.00174873]]\n",
      "Epoch [9700000/10000000]: loss = [[0.00174814]]\n",
      "Epoch [9800000/10000000]: loss = [[0.00174754]]\n",
      "Epoch [9900000/10000000]: loss = [[0.00174695]]\n",
      "Epoch [10000000/10000000]: loss = [[0.00174636]]\n"
     ]
    },
    {
     "data": {
      "text/plain": "[<matplotlib.lines.Line2D at 0x220b0cabb50>]"
     },
     "execution_count": 26,
     "metadata": {},
     "output_type": "execute_result"
    },
    {
     "data": {
      "text/plain": "<Figure size 432x288 with 1 Axes>",
      "image/png": "[encoded data removed]"
     },
     "metadata": {
      "needs_background": "light"
     },
     "output_type": "display_data"
    }
   ],
   "source": [
    "#? if we increase the alpha and epochs but the loss not very decreased\n",
    "# we should upgrade degree\n",
    "w, losses = gradient_descent(x_poly3, y_std, 10000000, 0.0000001)\n",
    "# w\n",
    "xx = np.linspace(x.min() - 1, x.max() + 1, 100).reshape(-1, 1)\n",
    "xx_poly = poly(xx, 3)\n",
    "yy = np.dot(xx_poly, w)\n",
    "plt.scatter(x, y_std)\n",
    "plt.plot(xx, yy)\n"
   ]
  },
  {
   "cell_type": "code",
   "execution_count": 28,
   "metadata": {
    "pycharm": {
     "name": "#%%\n"
    }
   },
   "outputs": [
    {
     "data": {
      "text/plain": "array([[-0.11826578],\n       [ 0.14799228],\n       [-0.04283191],\n       [ 0.0038626 ]])"
     },
     "execution_count": 28,
     "metadata": {},
     "output_type": "execute_result"
    }
   ],
   "source": [
    "w\n",
    "\n",
    "# array([[-0.11826578],  => for ^0\n",
    "#        [ 0.14799228],  => for ^1\n",
    "#        [-0.04283191],  => for ^2\n",
    "#        [ 0.0038626 ]]) => for ^3"
   ]
  }
 ],
 "metadata": {
  "interpreter": {
   "hash": "e404b59586357c814bc0d3940e75d6763c00a48753b225b81f7716971b8e1741"
  },
  "kernelspec": {
   "display_name": "Python 3.8.7 64-bit",
   "language": "python",
   "name": "python3"
  },
  "language_info": {
   "codemirror_mode": {
    "name": "ipython",
    "version": 3
   },
   "file_extension": ".py",
   "mimetype": "text/x-python",
   "name": "python",
   "nbconvert_exporter": "python",
   "pygments_lexer": "ipython3",
   "version": "3.8.7"
  },
  "orig_nbformat": 4
 },
 "nbformat": 4,
 "nbformat_minor": 2
}